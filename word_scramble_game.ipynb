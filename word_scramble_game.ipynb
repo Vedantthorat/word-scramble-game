{
 "cells": [
  {
   "cell_type": "markdown",
   "id": "36dfa47d-3b41-4727-8db0-bb7ef96cb108",
   "metadata": {},
   "source": [
    "# Python word-scramble-game \n",
    "\n"
   ]
  },
  {
   "cell_type": "code",
   "execution_count": null,
   "id": "b40f5643-9baf-41f2-b759-3b683de8998e",
   "metadata": {},
   "outputs": [
    {
     "name": "stdout",
     "output_type": "stream",
     "text": [
      "\n",
      " Welcome to the Word Scramble Game!\n",
      "Scrambled word: tihgorlam\n"
     ]
    },
    {
     "name": "stdin",
     "output_type": "stream",
     "text": [
      "Guess the word (or type 'exit' to quit):  algorithm\n"
     ]
    },
    {
     "name": "stdout",
     "output_type": "stream",
     "text": [
      "Correct! You guessed it!\n",
      "\n"
     ]
    }
   ],
   "source": [
    "import random\n",
    "\n",
    "word_list = [\"python\", \"developer\", \"programming\", \"algorithm\", \"function\", \"variable\", \"debugging\", \"compiler\", \"codechef\", \"machine\", \"bitcoin\", \"operation\"]\n",
    "\n",
    "def scramble_word(word):\n",
    "    \"\"\"Scramble the letters of a word randomly\"\"\"\n",
    "    word_list = list(word)\n",
    "    random.shuffle(word_list)\n",
    "    return ''.join(word_list)\n",
    "\n",
    "def guess_word(original_word):\n",
    "    attempts = 3\n",
    "    while attempts > 0:\n",
    "        # Take user input\n",
    "        guess = input(\"Guess the word (or type 'exit' to quit): \").lower()\n",
    "\n",
    "        \n",
    "\n",
    "        if guess == \"exit\":\n",
    "            # Print original_word and return \"exit\"\n",
    "           \n",
    "            print(f\"The correct word was: {original_word}\\n\")\n",
    "            print(\"Thanks for playing! Goodbye!\")\n",
    "            return \"exit\" \n",
    "\n",
    "        if guess == original_word:\n",
    "            print(\"Correct! You guessed it!\\n\")\n",
    "            return  \n",
    "        else:\n",
    "            attempts -= 1\n",
    "            print(f\"Wrong guess. Attempts left: {attempts}\")\n",
    "        \n",
    "    print(f\"The correct word was: {original_word}\\n\")\n",
    "\n",
    "def play_game():\n",
    "    \n",
    "    while True:  # Keep playing until user decides to exit\n",
    "        original_word = random.choice(word_list)\n",
    "        scrambled = scramble_word(original_word)\n",
    "\n",
    "        print(\"\\n Welcome to the Word Scramble Game!\")\n",
    "        print(f\"Scrambled word: {scrambled}\")\n",
    "\n",
    "        # Invoke guess_word()\n",
    "        if guess_word(original_word) == \"exit\":\n",
    "            break\n",
    "\n",
    "        # Ask the player if they want to play again\n",
    "        play_again = input(\"Do you want to play again? (yes/no): \").strip().lower()\n",
    "        \n",
    "        if play_again != \"yes\":\n",
    "            print(\"Thanks for playing! Goodbye!\")\n",
    "            break  # Exit the outer loop and end the game\n",
    "\n",
    "# Run the game\n",
    "if __name__ == \"__main__\":\n",
    "    play_game()\n"
   ]
  },
  {
   "cell_type": "code",
   "execution_count": null,
   "id": "f20bd2ab-f5c2-430f-9806-a0033a4bed83",
   "metadata": {},
   "outputs": [],
   "source": []
  }
 ],
 "metadata": {
  "kernelspec": {
   "display_name": "Python [conda env:base] *",
   "language": "python",
   "name": "conda-base-py"
  },
  "language_info": {
   "codemirror_mode": {
    "name": "ipython",
    "version": 3
   },
   "file_extension": ".py",
   "mimetype": "text/x-python",
   "name": "python",
   "nbconvert_exporter": "python",
   "pygments_lexer": "ipython3",
   "version": "3.12.7"
  }
 },
 "nbformat": 4,
 "nbformat_minor": 5
}
